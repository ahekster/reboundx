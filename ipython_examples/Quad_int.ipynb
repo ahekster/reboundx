{
 "cells": [
  {
   "cell_type": "code",
   "execution_count": 2,
   "id": "1065fad0-c28b-4ae9-91c2-886b3d2c8954",
   "metadata": {},
   "outputs": [],
   "source": [
    "# !pip install astropy\n",
    "import rebound\n",
    "import reboundx\n",
    "import astropy.units as u\n",
    "import matplotlib.pyplot as plt\n",
    "import numpy as np\n",
    "import scipy as sc\n",
    "from multiprocess import Pool"
   ]
  },
  {
   "cell_type": "code",
   "execution_count": 7,
   "id": "0d4ccc22-16f6-4e7e-9146-37a1de61ec4f",
   "metadata": {},
   "outputs": [
    {
     "name": "stdout",
     "output_type": "stream",
     "text": [
      "Searching NASA Horizons for 'Sun'... \n",
      "Found: Sun (10) \n",
      "Searching NASA Horizons for 'Mercury'... \n",
      "Found: Mercury Barycenter (199) (chosen from query 'Mercury')\n",
      "Searching NASA Horizons for 'Venus'... \n",
      "Found: Venus Barycenter (299) (chosen from query 'Venus')\n",
      "Searching NASA Horizons for 'Earth'... \n",
      "Found: Earth-Moon Barycenter (3) (chosen from query 'Earth')\n",
      "Searching NASA Horizons for 'Mars'... \n",
      "Found: Mars Barycenter (4) (chosen from query 'Mars')\n",
      "Searching NASA Horizons for 'Jupiter'... \n",
      "Found: Jupiter Barycenter (5) (chosen from query 'Jupiter')\n",
      "Searching NASA Horizons for 'Saturn'... \n",
      "Found: Saturn Barycenter (6) (chosen from query 'Saturn')\n",
      "Searching NASA Horizons for 'Uranus'... \n",
      "Found: Uranus Barycenter (7) (chosen from query 'Uranus')\n",
      "Searching NASA Horizons for 'Neptune'... \n",
      "Found: Neptune Barycenter (8) (chosen from query 'Neptune')\n"
     ]
    }
   ],
   "source": [
    "date='2024-01-01 00:00'\n",
    "quad = rebound.Simulation()\n",
    "quad.add('Sun', date=date, hash='sun')\n",
    "quad.add('Mercury', date=date)\n",
    "quad.add('Venus', date=date)\n",
    "quad.add('Earth', date=date, hash='earth')\n",
    "quad.add('Mars', date=date)\n",
    "quad.add('Jupiter', date=date)\n",
    "quad.add('Saturn', date=date)\n",
    "quad.add('Uranus', date=date)\n",
    "quad.add('Neptune', date=date)\n",
    "quad.move_to_com()\n",
    "quad.convert_particle_units('AU', 'year', 'Msun')\n",
    "qps = quad.particles"
   ]
  },
  {
   "cell_type": "code",
   "execution_count": 8,
   "id": "8aca3817-b09f-4651-a453-2e9c1c850837",
   "metadata": {},
   "outputs": [],
   "source": [
    "quad.integrator = \"whfast\"\n",
    "quad.save_to_file(\"quad.bin\", interval=1e4,delete_file=True)\n",
    "# quad.dt = (365.25*0.05)/365.25\n",
    "quad.dt = np.sqrt(10)/365.25\n",
    "quad.exit_min_distance = 1e-3 # ~4x the distance between the Earth and Moon.\n",
    "quad.exit_max_distance = 1000. # 1000 AU, Unlikely that a planet is bound.\n",
    "\n",
    "rebx = reboundx.Extras(quad)\n",
    "\n",
    "# add GR\n",
    "gr = rebx.load_force('gr_potential')\n",
    "rebx.add_force(gr)\n",
    "gr.params['c'] = 63240 # speed of light in AU/yr\n",
    "\n",
    "cf = rebx.load_force(\"quadrupole\")\n",
    "rebx.add_force(cf)\n",
    "\n",
    "earth_m = qps['earth'].m/1.012\n",
    "f = 0.8525\n",
    "mu_eff = f*(1*0.012*(earth_m)**2)/(1.012*earth_m)\n",
    "\n",
    "A = -1 * 3 * quad.G * qps['sun'].m / (4 * qps['earth'].m)\n",
    "R = 0.0025696\n",
    "\n",
    "qps['earth'].params[\"Rcentral\"] = R\n",
    "qps['earth'].params[\"mu_effcentral\"] = mu_eff"
   ]
  },
  {
   "cell_type": "code",
   "execution_count": null,
   "id": "dec3819f-c8ca-47fb-b5ff-be2dbd14c6b2",
   "metadata": {},
   "outputs": [],
   "source": [
    "%%time\n",
    "quad.integrate(-3*1e7)"
   ]
  },
  {
   "cell_type": "code",
   "execution_count": null,
   "id": "ee54a45d-9c5e-46b1-95c0-d249bcd85e97",
   "metadata": {},
   "outputs": [],
   "source": []
  }
 ],
 "metadata": {
  "kernelspec": {
   "display_name": "Python 3 (ipykernel)",
   "language": "python",
   "name": "python3"
  },
  "language_info": {
   "codemirror_mode": {
    "name": "ipython",
    "version": 3
   },
   "file_extension": ".py",
   "mimetype": "text/x-python",
   "name": "python",
   "nbconvert_exporter": "python",
   "pygments_lexer": "ipython3",
   "version": "3.12.4"
  }
 },
 "nbformat": 4,
 "nbformat_minor": 5
}
